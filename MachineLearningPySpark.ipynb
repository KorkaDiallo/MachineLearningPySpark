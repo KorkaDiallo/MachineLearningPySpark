{
  "nbformat": 4,
  "nbformat_minor": 0,
  "metadata": {
    "colab": {
      "name": "Untitled3.ipynb",
      "provenance": [],
      "collapsed_sections": [],
      "toc_visible": true
    },
    "kernelspec": {
      "name": "python3",
      "display_name": "Python 3"
    },
    "language_info": {
      "name": "python"
    }
  },
  "cells": [
    {
      "cell_type": "code",
      "metadata": {
        "colab": {
          "base_uri": "https://localhost:8080/"
        },
        "id": "C6krT20a2iAj",
        "outputId": "b3a1854a-6ade-4075-8f31-dd55c2f7887c"
      },
      "source": [
        "from google.colab import drive\n",
        "drive.mount('/content/drive')"
      ],
      "execution_count": null,
      "outputs": [
        {
          "output_type": "stream",
          "name": "stdout",
          "text": [
            "Mounted at /content/drive\n"
          ]
        }
      ]
    },
    {
      "cell_type": "code",
      "metadata": {
        "colab": {
          "base_uri": "https://localhost:8080/"
        },
        "id": "3XqDeKcvBRcO",
        "outputId": "e94367b7-bfa5-49c3-cc15-ca15b421a58a"
      },
      "source": [
        "!pip install spark"
      ],
      "execution_count": null,
      "outputs": [
        {
          "output_type": "stream",
          "name": "stdout",
          "text": [
            "Collecting spark\n",
            "  Downloading spark-0.2.1.tar.gz (41 kB)\n",
            "\u001b[?25l\r\u001b[K     |████████                        | 10 kB 22.8 MB/s eta 0:00:01\r\u001b[K     |████████████████                | 20 kB 29.7 MB/s eta 0:00:01\r\u001b[K     |████████████████████████        | 30 kB 33.6 MB/s eta 0:00:01\r\u001b[K     |████████████████████████████████| 40 kB 23.7 MB/s eta 0:00:01\r\u001b[K     |████████████████████████████████| 41 kB 56 kB/s \n",
            "\u001b[?25hBuilding wheels for collected packages: spark\n",
            "  Building wheel for spark (setup.py) ... \u001b[?25l\u001b[?25hdone\n",
            "  Created wheel for spark: filename=spark-0.2.1-py3-none-any.whl size=58761 sha256=f923746faa809489a92869bd1a0fe272139a81ed189be1c7479f006afd55c70e\n",
            "  Stored in directory: /root/.cache/pip/wheels/4e/0e/f1/164619f9920fb447d294afaae11a7715bd442ded7225953d72\n",
            "Successfully built spark\n",
            "Installing collected packages: spark\n",
            "Successfully installed spark-0.2.1\n"
          ]
        }
      ]
    },
    {
      "cell_type": "code",
      "metadata": {
        "id": "ntwj4oMaIrIj"
      },
      "source": [
        "import spark"
      ],
      "execution_count": null,
      "outputs": []
    },
    {
      "cell_type": "code",
      "metadata": {
        "colab": {
          "base_uri": "https://localhost:8080/"
        },
        "id": "UAQOZzynH5sM",
        "outputId": "2aeaf53e-5c14-4e76-bf6e-43348d5ff183"
      },
      "source": [
        "!pip install pyspark"
      ],
      "execution_count": null,
      "outputs": [
        {
          "output_type": "stream",
          "name": "stdout",
          "text": [
            "Collecting pyspark\n",
            "  Downloading pyspark-3.1.2.tar.gz (212.4 MB)\n",
            "\u001b[K     |████████████████████████████████| 212.4 MB 63 kB/s \n",
            "\u001b[?25hCollecting py4j==0.10.9\n",
            "  Downloading py4j-0.10.9-py2.py3-none-any.whl (198 kB)\n",
            "\u001b[K     |████████████████████████████████| 198 kB 73.0 MB/s \n",
            "\u001b[?25hBuilding wheels for collected packages: pyspark\n",
            "  Building wheel for pyspark (setup.py) ... \u001b[?25l\u001b[?25hdone\n",
            "  Created wheel for pyspark: filename=pyspark-3.1.2-py2.py3-none-any.whl size=212880768 sha256=0e26912003b796cee6b7cc90729e95a017224957c0730a45a585d66107001c25\n",
            "  Stored in directory: /root/.cache/pip/wheels/a5/0a/c1/9561f6fecb759579a7d863dcd846daaa95f598744e71b02c77\n",
            "Successfully built pyspark\n",
            "Installing collected packages: py4j, pyspark\n",
            "Successfully installed py4j-0.10.9 pyspark-3.1.2\n"
          ]
        }
      ]
    },
    {
      "cell_type": "code",
      "metadata": {
        "id": "1jLmh7ozI3vr"
      },
      "source": [
        "from pyspark.sql import SparkSession\n",
        "from pyspark.ml import Pipeline\n",
        "from pyspark.sql.functions import mean,col,split, col, regexp_extract, when, lit\n",
        "from pyspark.ml.feature import StringIndexer\n",
        "from pyspark.ml.feature import VectorAssembler\n",
        "from pyspark.ml.evaluation import MulticlassClassificationEvaluator\n",
        "from pyspark.ml.feature import QuantileDiscretizer"
      ],
      "execution_count": null,
      "outputs": []
    },
    {
      "cell_type": "code",
      "metadata": {
        "id": "JJWds1ktI5ir"
      },
      "source": [
        "spark = SparkSession \\\n",
        "    .builder \\\n",
        "    .appName(\"Spark ML example on titanic data \") \\\n",
        "    .getOrCreate()"
      ],
      "execution_count": null,
      "outputs": []
    },
    {
      "cell_type": "code",
      "metadata": {
        "id": "Bgvl3RIsJLK7"
      },
      "source": [
        "s3_bucket_path = \"/content/tripA_10-06-2021.csv\"\n"
      ],
      "execution_count": null,
      "outputs": []
    },
    {
      "cell_type": "code",
      "metadata": {
        "colab": {
          "base_uri": "https://localhost:8080/"
        },
        "id": "Lqvx2zFdJSOK",
        "outputId": "81be98a4-0726-48d2-fc4c-8f4315061fef"
      },
      "source": [
        "trip_df = spark.read.csv(s3_bucket_path,header = 'True',inferSchema='True')\n",
        "trip_count = trip_df.count()\n",
        "print(trip_count)\n"
      ],
      "execution_count": null,
      "outputs": [
        {
          "output_type": "stream",
          "name": "stdout",
          "text": [
            "2074\n"
          ]
        }
      ]
    },
    {
      "cell_type": "code",
      "metadata": {
        "colab": {
          "base_uri": "https://localhost:8080/"
        },
        "id": "s6In-kJIJ02K",
        "outputId": "b01bcc20-0028-414e-a82d-d1e0021d0c6d"
      },
      "source": [
        "trip_df.show(15)"
      ],
      "execution_count": null,
      "outputs": [
        {
          "output_type": "stream",
          "name": "stdout",
          "text": [
            "+--------+--------------------+---------------------+---------------+-------------+----------+------------------+------------+------------+------------+-----------+-----+-------+----------+------------+---------------------+------------+\n",
            "|VendorID|tpep_pickup_datetime|tpep_dropoff_datetime|passenger_count|trip_distance|RatecodeID|store_and_fwd_flag|PULocationID|DOLocationID|payment_type|fare_amount|extra|mta_tax|tip_amount|tolls_amount|improvement_surcharge|total_amount|\n",
            "+--------+--------------------+---------------------+---------------+-------------+----------+------------------+------------+------------+------------+-----------+-----+-------+----------+------------+---------------------+------------+\n",
            "|       1|08/12/2018 08:49:...| 08/12/2018 09:00:...|              1|          2.2|         1|                 N|         234|         246|           1|       10.0|  0.5|    0.5|      2.25|         0.0|                  0.3|       13.55|\n",
            "|       1|08/12/2018 08:49:...| 08/12/2018 09:00:...|              1|          2.2|         1|                 N|         234|         246|           1|       10.0|  0.5|    0.5|      2.25|         0.0|                  0.3|       13.55|\n",
            "|       1|08/12/2018 08:49:...| 08/12/2018 09:00:...|              1|          2.2|         1|                 N|         234|         246|           1|       10.0|  0.5|    0.5|      2.25|         0.0|                  0.3|       13.55|\n",
            "|       1|08/12/2018 08:49:...| 08/12/2018 09:00:...|              1|          2.2|         1|                 N|         234|         246|           1|       10.0|  0.5|    0.5|      2.25|         0.0|                  0.3|       13.55|\n",
            "|       1|08/12/2018 08:49:...| 08/12/2018 09:00:...|              1|          2.2|         1|                 N|         234|         246|           1|       10.0|  0.5|    0.5|      2.25|         0.0|                  0.3|       13.55|\n",
            "|       1|08/12/2018 08:49:...| 08/12/2018 09:00:...|              1|          2.2|         1|                 N|         234|         246|           1|       10.0|  0.5|    0.5|      2.25|         0.0|                  0.3|       13.55|\n",
            "|       1|08/12/2018 08:49:...| 08/12/2018 09:00:...|              1|          2.2|         1|                 N|         234|         246|           1|       10.0|  0.5|    0.5|      2.25|         0.0|                  0.3|       13.55|\n",
            "|       1|08/12/2018 08:03:...| 08/12/2018 08:11:...|              1|          1.4|         1|                 Y|         137|         161|           3|        7.5|  0.0|    0.5|       0.0|         0.0|                  0.3|         8.3|\n",
            "|       1|08/12/2018 08:17:...| 08/12/2018 08:20:...|              1|          0.7|         1|                 N|         170|         107|           1|        4.5|  0.0|    0.5|      1.55|         0.0|                  0.3|        6.85|\n",
            "|       1|08/12/2018 08:21:...| 08/12/2018 08:23:...|              1|          0.4|         1|                 N|         107|         113|           1|        3.5|  0.0|    0.5|      0.85|         0.0|                  0.3|        5.15|\n",
            "|       1|08/12/2018 08:36:...| 08/12/2018 08:51:...|              1|          2.2|         1|                 N|         144|         224|           1|       11.5|  0.0|    0.5|      2.45|         0.0|                  0.3|       14.75|\n",
            "|       1|08/12/2018 08:55:...| 08/12/2018 09:01:...|              1|          1.7|         1|                 N|         224|         170|           1|        7.5|  0.0|    0.5|      1.65|         0.0|                  0.3|        9.95|\n",
            "|       2|08/12/2018 08:10:...| 08/12/2018 08:41:...|              1|         7.71|         1|                 N|         113|         151|           2|       27.0|  0.5|    0.5|       0.0|         0.0|                  0.3|        28.3|\n",
            "|       2|08/12/2018 08:55:...| 08/12/2018 09:05:...|              1|         2.29|         1|                 N|          50|          68|           1|        9.5|  0.5|    0.5|      2.16|         0.0|                  0.3|       12.96|\n",
            "|       1|08/12/2018 08:08:...| 08/12/2018 08:18:...|              1|          1.4|         1|                 N|         249|         170|           2|        8.5|  0.5|    0.5|       0.0|         0.0|                  0.3|         9.8|\n",
            "+--------+--------------------+---------------------+---------------+-------------+----------+------------------+------------+------------+------------+-----------+-----+-------+----------+------------+---------------------+------------+\n",
            "only showing top 15 rows\n",
            "\n"
          ]
        }
      ]
    },
    {
      "cell_type": "code",
      "metadata": {
        "id": "CYYmA5TLrZ9-"
      },
      "source": [
        "\n",
        "# This function use to print feature with null values and null count \n",
        "def null_value_count(df):\n",
        "  null_columns_counts = []\n",
        "  numRows = df.count()\n",
        "  for k in df.columns:\n",
        "    nullRows = df.where(col(k).isNull()).count()\n",
        "    if(nullRows > 0):\n",
        "      temp = k,nullRows\n",
        "      null_columns_counts.append(temp)\n",
        "  return(null_columns_counts)"
      ],
      "execution_count": null,
      "outputs": []
    },
    {
      "cell_type": "code",
      "metadata": {
        "id": "5oJ_esZsrb9s"
      },
      "source": [
        "null_columns_count_list = null_value_count(trip_df)\n"
      ],
      "execution_count": null,
      "outputs": []
    },
    {
      "cell_type": "code",
      "metadata": {
        "colab": {
          "base_uri": "https://localhost:8080/"
        },
        "id": "J_VEKfi8r3JQ",
        "outputId": "34f1b451-1c23-4d3a-a561-02a134a85c1e"
      },
      "source": [
        "print(null_columns_count_list,trip_df)"
      ],
      "execution_count": null,
      "outputs": [
        {
          "output_type": "stream",
          "name": "stdout",
          "text": [
            "[] DataFrame[VendorID: int, tpep_pickup_datetime: string, tpep_dropoff_datetime: string, passenger_count: int, trip_distance: double, RatecodeID: int, store_and_fwd_flag: string, PULocationID: int, DOLocationID: int, payment_type: int, fare_amount: double, extra: double, mta_tax: double, tip_amount: double, tolls_amount: double, improvement_surcharge: double, total_amount: double]\n"
          ]
        }
      ]
    },
    {
      "cell_type": "code",
      "metadata": {
        "colab": {
          "base_uri": "https://localhost:8080/"
        },
        "id": "CxpHptBFsNeV",
        "outputId": "492bf457-8dcf-49fc-f08c-cadd28f6ff80"
      },
      "source": [
        "mean_passenger_count = trip_df.select(mean('passenger_count')).collect()[0][0]\n",
        "print(mean_passenger_count)"
      ],
      "execution_count": null,
      "outputs": [
        {
          "output_type": "stream",
          "name": "stdout",
          "text": [
            "1.5274831243973\n"
          ]
        }
      ]
    },
    {
      "cell_type": "code",
      "metadata": {
        "colab": {
          "base_uri": "https://localhost:8080/"
        },
        "id": "4vy16OHys6r9",
        "outputId": "b44e1b09-f586-406c-dd6c-4e333724ed86"
      },
      "source": [
        "trip_df.printSchema()\n"
      ],
      "execution_count": null,
      "outputs": [
        {
          "output_type": "stream",
          "name": "stdout",
          "text": [
            "root\n",
            " |-- VendorID: integer (nullable = true)\n",
            " |-- tpep_pickup_datetime: string (nullable = true)\n",
            " |-- tpep_dropoff_datetime: string (nullable = true)\n",
            " |-- passenger_count: integer (nullable = true)\n",
            " |-- trip_distance: double (nullable = true)\n",
            " |-- RatecodeID: integer (nullable = true)\n",
            " |-- store_and_fwd_flag: string (nullable = true)\n",
            " |-- PULocationID: integer (nullable = true)\n",
            " |-- DOLocationID: integer (nullable = true)\n",
            " |-- payment_type: integer (nullable = true)\n",
            " |-- fare_amount: double (nullable = true)\n",
            " |-- extra: double (nullable = true)\n",
            " |-- mta_tax: double (nullable = true)\n",
            " |-- tip_amount: double (nullable = true)\n",
            " |-- tolls_amount: double (nullable = true)\n",
            " |-- improvement_surcharge: double (nullable = true)\n",
            " |-- total_amount: double (nullable = true)\n",
            "\n"
          ]
        }
      ]
    },
    {
      "cell_type": "code",
      "metadata": {
        "id": "nC672iFGtoHO"
      },
      "source": [
        "trip_df = trip_df.drop(\"tpep_pickup_datetime\",\"tpep_dropoff_datetime\",\"store_and_fwd_flag\")\n"
      ],
      "execution_count": null,
      "outputs": []
    },
    {
      "cell_type": "code",
      "metadata": {
        "colab": {
          "base_uri": "https://localhost:8080/"
        },
        "id": "ijMchLuCuDOI",
        "outputId": "58d0850b-147e-4d3e-ec09-8ca2a1df1bd9"
      },
      "source": [
        "trip_df.printSchema()"
      ],
      "execution_count": null,
      "outputs": [
        {
          "output_type": "stream",
          "name": "stdout",
          "text": [
            "root\n",
            " |-- VendorID: integer (nullable = true)\n",
            " |-- passenger_count: integer (nullable = true)\n",
            " |-- trip_distance: double (nullable = true)\n",
            " |-- RatecodeID: integer (nullable = true)\n",
            " |-- PULocationID: integer (nullable = true)\n",
            " |-- DOLocationID: integer (nullable = true)\n",
            " |-- payment_type: integer (nullable = true)\n",
            " |-- fare_amount: double (nullable = true)\n",
            " |-- extra: double (nullable = true)\n",
            " |-- mta_tax: double (nullable = true)\n",
            " |-- tip_amount: double (nullable = true)\n",
            " |-- tolls_amount: double (nullable = true)\n",
            " |-- improvement_surcharge: double (nullable = true)\n",
            " |-- total_amount: double (nullable = true)\n",
            "\n"
          ]
        }
      ]
    },
    {
      "cell_type": "code",
      "metadata": {
        "colab": {
          "base_uri": "https://localhost:8080/"
        },
        "id": "8ENqa78sui2D",
        "outputId": "f879903a-2f55-4c51-e5ef-a5de01c981cc"
      },
      "source": [
        "trip_df.show(5)"
      ],
      "execution_count": null,
      "outputs": [
        {
          "output_type": "stream",
          "name": "stdout",
          "text": [
            "+--------+---------------+-------------+----------+------------+------------+------------+-----------+-----+-------+----------+------------+---------------------+------------+\n",
            "|VendorID|passenger_count|trip_distance|RatecodeID|PULocationID|DOLocationID|payment_type|fare_amount|extra|mta_tax|tip_amount|tolls_amount|improvement_surcharge|total_amount|\n",
            "+--------+---------------+-------------+----------+------------+------------+------------+-----------+-----+-------+----------+------------+---------------------+------------+\n",
            "|       1|              1|          2.2|         1|         234|         246|           1|       10.0|  0.5|    0.5|      2.25|         0.0|                  0.3|       13.55|\n",
            "|       1|              1|          2.2|         1|         234|         246|           1|       10.0|  0.5|    0.5|      2.25|         0.0|                  0.3|       13.55|\n",
            "|       1|              1|          2.2|         1|         234|         246|           1|       10.0|  0.5|    0.5|      2.25|         0.0|                  0.3|       13.55|\n",
            "|       1|              1|          2.2|         1|         234|         246|           1|       10.0|  0.5|    0.5|      2.25|         0.0|                  0.3|       13.55|\n",
            "|       1|              1|          2.2|         1|         234|         246|           1|       10.0|  0.5|    0.5|      2.25|         0.0|                  0.3|       13.55|\n",
            "+--------+---------------+-------------+----------+------------+------------+------------+-----------+-----+-------+----------+------------+---------------------+------------+\n",
            "only showing top 5 rows\n",
            "\n"
          ]
        }
      ]
    },
    {
      "cell_type": "code",
      "metadata": {
        "id": "lrBkFw4FuuHo"
      },
      "source": [
        "feature = VectorAssembler(inputCols=trip_df.columns[1:],outputCol=\"features\")\n",
        "feature_vector= feature.transform(trip_df)"
      ],
      "execution_count": null,
      "outputs": []
    },
    {
      "cell_type": "code",
      "metadata": {
        "colab": {
          "base_uri": "https://localhost:8080/"
        },
        "id": "67Z31n8Wu7rP",
        "outputId": "0b4e580e-6255-4306-cd66-8886f27d4dd8"
      },
      "source": [
        "feature_vector.show(5)\n"
      ],
      "execution_count": null,
      "outputs": [
        {
          "output_type": "stream",
          "name": "stdout",
          "text": [
            "+--------+---------------+-------------+----------+------------+------------+------------+-----------+-----+-------+----------+------------+---------------------+------------+--------------------+\n",
            "|VendorID|passenger_count|trip_distance|RatecodeID|PULocationID|DOLocationID|payment_type|fare_amount|extra|mta_tax|tip_amount|tolls_amount|improvement_surcharge|total_amount|            features|\n",
            "+--------+---------------+-------------+----------+------------+------------+------------+-----------+-----+-------+----------+------------+---------------------+------------+--------------------+\n",
            "|       1|              1|          2.2|         1|         234|         246|           1|       10.0|  0.5|    0.5|      2.25|         0.0|                  0.3|       13.55|[1.0,2.2,1.0,234....|\n",
            "|       1|              1|          2.2|         1|         234|         246|           1|       10.0|  0.5|    0.5|      2.25|         0.0|                  0.3|       13.55|[1.0,2.2,1.0,234....|\n",
            "|       1|              1|          2.2|         1|         234|         246|           1|       10.0|  0.5|    0.5|      2.25|         0.0|                  0.3|       13.55|[1.0,2.2,1.0,234....|\n",
            "|       1|              1|          2.2|         1|         234|         246|           1|       10.0|  0.5|    0.5|      2.25|         0.0|                  0.3|       13.55|[1.0,2.2,1.0,234....|\n",
            "|       1|              1|          2.2|         1|         234|         246|           1|       10.0|  0.5|    0.5|      2.25|         0.0|                  0.3|       13.55|[1.0,2.2,1.0,234....|\n",
            "+--------+---------------+-------------+----------+------------+------------+------------+-----------+-----+-------+----------+------------+---------------------+------------+--------------------+\n",
            "only showing top 5 rows\n",
            "\n"
          ]
        }
      ]
    },
    {
      "cell_type": "code",
      "metadata": {
        "id": "q2XhwP20vNIR"
      },
      "source": [
        "(trainingData, testData) = feature_vector.randomSplit([0.8, 0.2],seed = 11)\n"
      ],
      "execution_count": null,
      "outputs": []
    },
    {
      "cell_type": "code",
      "metadata": {
        "colab": {
          "base_uri": "https://localhost:8080/"
        },
        "id": "e13tIci7vXQr",
        "outputId": "3a0890aa-6c7c-4f5c-f5db-258d20d1ca92"
      },
      "source": [
        "from pyspark.ml.classification import LogisticRegression\n",
        "lr = LogisticRegression(labelCol=\"VendorID\", featuresCol=\"features\")\n",
        "#Training algo\n",
        "lrModel = lr.fit(trainingData)\n",
        "lr_prediction = lrModel.transform(testData)\n",
        "lr_prediction.select(\"prediction\", \"VendorID\", \"features\").show()\n",
        "evaluator = MulticlassClassificationEvaluator(labelCol=\"VendorID\", predictionCol=\"prediction\", metricName=\"accuracy\")"
      ],
      "execution_count": null,
      "outputs": [
        {
          "output_type": "stream",
          "name": "stdout",
          "text": [
            "+----------+--------+--------------------+\n",
            "|prediction|VendorID|            features|\n",
            "+----------+--------+--------------------+\n",
            "|       1.0|       1|[0.0,1.0,1.0,113....|\n",
            "|       1.0|       1|[0.0,1.4,1.0,68.0...|\n",
            "|       1.0|       1|[0.0,3.6,1.0,263....|\n",
            "|       1.0|       1|[0.0,3.9,1.0,186....|\n",
            "|       1.0|       1|[0.0,5.0,1.0,12.0...|\n",
            "|       1.0|       1|[0.0,8.6,1.0,138....|\n",
            "|       2.0|       1|[1.0,0.0,1.0,148....|\n",
            "|       2.0|       1|[1.0,0.3,1.0,162....|\n",
            "|       2.0|       1|[1.0,0.4,1.0,79.0...|\n",
            "|       2.0|       1|[1.0,0.4,1.0,141....|\n",
            "|       2.0|       1|[1.0,0.4,1.0,244....|\n",
            "|       2.0|       1|[1.0,0.5,1.0,137....|\n",
            "|       2.0|       1|[1.0,0.5,1.0,143....|\n",
            "|       2.0|       1|[1.0,0.5,1.0,211....|\n",
            "|       2.0|       1|[1.0,0.6,1.0,68.0...|\n",
            "|       2.0|       1|[1.0,0.7,1.0,48.0...|\n",
            "|       2.0|       1|[1.0,0.7,1.0,79.0...|\n",
            "|       2.0|       1|[1.0,0.7,1.0,100....|\n",
            "|       2.0|       1|[1.0,0.7,1.0,142....|\n",
            "|       2.0|       1|[1.0,0.7,1.0,230....|\n",
            "+----------+--------+--------------------+\n",
            "only showing top 20 rows\n",
            "\n"
          ]
        }
      ]
    },
    {
      "cell_type": "code",
      "metadata": {
        "colab": {
          "base_uri": "https://localhost:8080/"
        },
        "id": "IG6SZjpRv83D",
        "outputId": "f09f7385-bc5e-4f5a-fb45-03942db0048e"
      },
      "source": [
        "lr_accuracy = evaluator.evaluate(lr_prediction)\n",
        "print(\"Accuracy of LogisticRegression is = %g\"% (lr_accuracy))\n",
        "print(\"Test Error of LogisticRegression = %g \" % (1.0 - lr_accuracy))"
      ],
      "execution_count": null,
      "outputs": [
        {
          "output_type": "stream",
          "name": "stdout",
          "text": [
            "Accuracy of LogisticRegression is = 0.533654\n",
            "Test Error of LogisticRegression = 0.466346 \n"
          ]
        }
      ]
    },
    {
      "cell_type": "code",
      "metadata": {
        "colab": {
          "base_uri": "https://localhost:8080/"
        },
        "id": "Y-UT-vruwIyB",
        "outputId": "c33df8c1-3d13-4f85-e826-b86a4027a36b"
      },
      "source": [
        "from pyspark.ml.classification import DecisionTreeClassifier\n",
        "dt = DecisionTreeClassifier(labelCol=\"VendorID\", featuresCol=\"features\")\n",
        "dt_model = dt.fit(trainingData)\n",
        "dt_prediction = dt_model.transform(testData)\n",
        "dt_prediction.select(\"prediction\", \"VendorID\", \"features\").show()"
      ],
      "execution_count": null,
      "outputs": [
        {
          "output_type": "stream",
          "name": "stdout",
          "text": [
            "+----------+--------+--------------------+\n",
            "|prediction|VendorID|            features|\n",
            "+----------+--------+--------------------+\n",
            "|       1.0|       1|[0.0,1.0,1.0,113....|\n",
            "|       1.0|       1|[0.0,1.4,1.0,68.0...|\n",
            "|       1.0|       1|[0.0,3.6,1.0,263....|\n",
            "|       1.0|       1|[0.0,3.9,1.0,186....|\n",
            "|       1.0|       1|[0.0,5.0,1.0,12.0...|\n",
            "|       1.0|       1|[0.0,8.6,1.0,138....|\n",
            "|       2.0|       1|[1.0,0.0,1.0,148....|\n",
            "|       2.0|       1|[1.0,0.3,1.0,162....|\n",
            "|       2.0|       1|[1.0,0.4,1.0,79.0...|\n",
            "|       1.0|       1|[1.0,0.4,1.0,141....|\n",
            "|       2.0|       1|[1.0,0.4,1.0,244....|\n",
            "|       2.0|       1|[1.0,0.5,1.0,137....|\n",
            "|       2.0|       1|[1.0,0.5,1.0,143....|\n",
            "|       1.0|       1|[1.0,0.5,1.0,211....|\n",
            "|       2.0|       1|[1.0,0.6,1.0,68.0...|\n",
            "|       2.0|       1|[1.0,0.7,1.0,48.0...|\n",
            "|       2.0|       1|[1.0,0.7,1.0,79.0...|\n",
            "|       1.0|       1|[1.0,0.7,1.0,100....|\n",
            "|       2.0|       1|[1.0,0.7,1.0,142....|\n",
            "|       2.0|       1|[1.0,0.7,1.0,230....|\n",
            "+----------+--------+--------------------+\n",
            "only showing top 20 rows\n",
            "\n"
          ]
        }
      ]
    },
    {
      "cell_type": "code",
      "metadata": {
        "colab": {
          "base_uri": "https://localhost:8080/"
        },
        "id": "KrlcBZ5ewbSJ",
        "outputId": "3dc8e541-241f-48c2-efb4-15cf097829e2"
      },
      "source": [
        "dt_accuracy = evaluator.evaluate(dt_prediction)\n",
        "print(\"Accuracy of DecisionTreeClassifier is = %g\"% (dt_accuracy))\n",
        "print(\"Test Error of DecisionTreeClassifier = %g \" % (1.0 - dt_accuracy))"
      ],
      "execution_count": null,
      "outputs": [
        {
          "output_type": "stream",
          "name": "stdout",
          "text": [
            "Accuracy of DecisionTreeClassifier is = 0.567308\n",
            "Test Error of DecisionTreeClassifier = 0.432692 \n"
          ]
        }
      ]
    },
    {
      "cell_type": "code",
      "metadata": {
        "colab": {
          "base_uri": "https://localhost:8080/"
        },
        "id": "rdqrsoldwmdZ",
        "outputId": "a2f5e62f-a55c-4b2e-fccc-4fe43e07aa4e"
      },
      "source": [
        "\n",
        "from pyspark.ml.classification import RandomForestClassifier\n",
        "rf = DecisionTreeClassifier(labelCol=\"VendorID\", featuresCol=\"features\")\n",
        "rf_model = rf.fit(trainingData)\n",
        "rf_prediction = rf_model.transform(testData)\n",
        "rf_prediction.select(\"prediction\", \"VendorID\", \"features\").show()"
      ],
      "execution_count": null,
      "outputs": [
        {
          "output_type": "stream",
          "name": "stdout",
          "text": [
            "+----------+--------+--------------------+\n",
            "|prediction|VendorID|            features|\n",
            "+----------+--------+--------------------+\n",
            "|       1.0|       1|[0.0,1.0,1.0,113....|\n",
            "|       1.0|       1|[0.0,1.4,1.0,68.0...|\n",
            "|       1.0|       1|[0.0,3.6,1.0,263....|\n",
            "|       1.0|       1|[0.0,3.9,1.0,186....|\n",
            "|       1.0|       1|[0.0,5.0,1.0,12.0...|\n",
            "|       1.0|       1|[0.0,8.6,1.0,138....|\n",
            "|       2.0|       1|[1.0,0.0,1.0,148....|\n",
            "|       2.0|       1|[1.0,0.3,1.0,162....|\n",
            "|       2.0|       1|[1.0,0.4,1.0,79.0...|\n",
            "|       1.0|       1|[1.0,0.4,1.0,141....|\n",
            "|       2.0|       1|[1.0,0.4,1.0,244....|\n",
            "|       2.0|       1|[1.0,0.5,1.0,137....|\n",
            "|       2.0|       1|[1.0,0.5,1.0,143....|\n",
            "|       1.0|       1|[1.0,0.5,1.0,211....|\n",
            "|       2.0|       1|[1.0,0.6,1.0,68.0...|\n",
            "|       2.0|       1|[1.0,0.7,1.0,48.0...|\n",
            "|       2.0|       1|[1.0,0.7,1.0,79.0...|\n",
            "|       1.0|       1|[1.0,0.7,1.0,100....|\n",
            "|       2.0|       1|[1.0,0.7,1.0,142....|\n",
            "|       2.0|       1|[1.0,0.7,1.0,230....|\n",
            "+----------+--------+--------------------+\n",
            "only showing top 20 rows\n",
            "\n"
          ]
        }
      ]
    },
    {
      "cell_type": "code",
      "metadata": {
        "colab": {
          "base_uri": "https://localhost:8080/"
        },
        "id": "b0rQlGUrwybO",
        "outputId": "2c91b57e-1bdb-4c61-85e7-ad9705f64e3f"
      },
      "source": [
        "\n",
        "rf_accuracy = evaluator.evaluate(rf_prediction)\n",
        "print(\"Accuracy of RandomForestClassifier is = %g\"% (rf_accuracy))\n",
        "print(\"Test Error of RandomForestClassifier  = %g \" % (1.0 - rf_accuracy))"
      ],
      "execution_count": null,
      "outputs": [
        {
          "output_type": "stream",
          "name": "stdout",
          "text": [
            "Accuracy of RandomForestClassifier is = 0.567308\n",
            "Test Error of RandomForestClassifier  = 0.432692 \n"
          ]
        }
      ]
    }
  ]
}
